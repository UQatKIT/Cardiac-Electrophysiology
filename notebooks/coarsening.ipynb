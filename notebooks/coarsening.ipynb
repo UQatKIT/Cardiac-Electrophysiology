{
 "cells": [
  {
   "cell_type": "code",
   "execution_count": 1,
   "id": "e489404d",
   "metadata": {},
   "outputs": [],
   "source": [
    "import numpy as np\n",
    "import pyvista as pv\n",
    "\n",
    "pv.set_jupyter_backend('trame')"
   ]
  },
  {
   "cell_type": "code",
   "execution_count": 2,
   "id": "5f2845c9",
   "metadata": {},
   "outputs": [],
   "source": [
    "file_name = \"../data/human_atrial_fiber_atlas/patient_01/mesh_uacs_fibers.vtk\"\n",
    "raw_dataset = pv.read(file_name)"
   ]
  },
  {
   "cell_type": "code",
   "execution_count": 5,
   "id": "b4110b51",
   "metadata": {},
   "outputs": [
    {
     "data": {
      "text/html": [
       "<table style='width: 100%;'><tr><th>Header</th><th>Data Arrays</th></tr><tr><td>\n",
       "<table style='width: 100%;'>\n",
       "<tr><th>PolyData</th><th>Information</th></tr>\n",
       "<tr><td>N Cells</td><td>125501</td></tr>\n",
       "<tr><td>N Points</td><td>63112</td></tr>\n",
       "<tr><td>N Strips</td><td>0</td></tr>\n",
       "<tr><td>X Bounds</td><td>2.785e+04, 6.993e+04</td></tr>\n",
       "<tr><td>Y Bounds</td><td>1.670e+04, 6.522e+04</td></tr>\n",
       "<tr><td>Z Bounds</td><td>1.284e+04, 5.690e+04</td></tr>\n",
       "<tr><td>N Arrays</td><td>3</td></tr>\n",
       "</table>\n",
       "\n",
       "</td><td>\n",
       "<table style='width: 100%;'>\n",
       "<tr><th>Name</th><th>Field</th><th>Type</th><th>N Comp</th><th>Min</th><th>Max</th></tr>\n",
       "<tr><td><b>alpha</b></td><td>Points</td><td>float32</td><td>1</td><td>0.000e+00</td><td>1.000e+00</td></tr>\n",
       "<tr><td>beta</td><td>Points</td><td>float32</td><td>1</td><td>0.000e+00</td><td>1.000e+00</td></tr>\n",
       "<tr><td>fibers</td><td>Cells</td><td>float32</td><td>3</td><td>-1.000e+00</td><td>1.000e+00</td></tr>\n",
       "</table>\n",
       "\n",
       "</td></tr> </table>"
      ],
      "text/plain": [
       "PolyData (0x7fbbd3f13d00)\n",
       "  N Cells:    125501\n",
       "  N Points:   63112\n",
       "  N Strips:   0\n",
       "  X Bounds:   2.785e+04, 6.993e+04\n",
       "  Y Bounds:   1.670e+04, 6.522e+04\n",
       "  Z Bounds:   1.284e+04, 5.690e+04\n",
       "  N Arrays:   3"
      ]
     },
     "execution_count": 5,
     "metadata": {},
     "output_type": "execute_result"
    }
   ],
   "source": [
    "points = raw_dataset.points\n",
    "simplices = raw_dataset.cells.reshape(-1, 4)[:, 1:]\n",
    "alpha_values = raw_dataset.point_data[\"alpha\"]\n",
    "beta_values = raw_dataset.point_data[\"beta\"]\n",
    "fiber_directions = raw_dataset.cell_data[\"fibers\"]\n",
    "triangular_mesh = pv.PolyData.from_regular_faces(points, simplices)\n",
    "triangular_mesh.point_data[\"alpha\"] = alpha_values\n",
    "triangular_mesh.point_data[\"beta\"] = beta_values\n",
    "triangular_mesh.cell_data[\"fibers\"] = fiber_directions\n",
    "triangular_mesh"
   ]
  },
  {
   "cell_type": "code",
   "execution_count": 41,
   "id": "f1bf2e93",
   "metadata": {},
   "outputs": [
    {
     "data": {
      "text/html": [
       "<table style='width: 100%;'><tr><th>Header</th><th>Data Arrays</th></tr><tr><td>\n",
       "<table style='width: 100%;'>\n",
       "<tr><th>PolyData</th><th>Information</th></tr>\n",
       "<tr><td>N Cells</td><td>25099</td></tr>\n",
       "<tr><td>N Points</td><td>12757</td></tr>\n",
       "<tr><td>N Strips</td><td>0</td></tr>\n",
       "<tr><td>X Bounds</td><td>2.785e+04, 6.994e+04</td></tr>\n",
       "<tr><td>Y Bounds</td><td>1.669e+04, 6.522e+04</td></tr>\n",
       "<tr><td>Z Bounds</td><td>1.284e+04, 5.690e+04</td></tr>\n",
       "<tr><td>N Arrays</td><td>2</td></tr>\n",
       "</table>\n",
       "\n",
       "</td><td>\n",
       "<table style='width: 100%;'>\n",
       "<tr><th>Name</th><th>Field</th><th>Type</th><th>N Comp</th><th>Min</th><th>Max</th></tr>\n",
       "<tr><td><b>alpha</b></td><td>Points</td><td>float32</td><td>1</td><td>0.000e+00</td><td>1.000e+00</td></tr>\n",
       "<tr><td>beta</td><td>Points</td><td>float32</td><td>1</td><td>0.000e+00</td><td>1.000e+00</td></tr>\n",
       "</table>\n",
       "\n",
       "</td></tr> </table>"
      ],
      "text/plain": [
       "PolyData (0x7fbb2af22620)\n",
       "  N Cells:    25099\n",
       "  N Points:   12757\n",
       "  N Strips:   0\n",
       "  X Bounds:   2.785e+04, 6.994e+04\n",
       "  Y Bounds:   1.669e+04, 6.522e+04\n",
       "  Z Bounds:   1.284e+04, 5.690e+04\n",
       "  N Arrays:   2"
      ]
     },
     "execution_count": 41,
     "metadata": {},
     "output_type": "execute_result"
    }
   ],
   "source": [
    "coarse_mesh = triangular_mesh.decimate(0.8, enable_all_attribute_error=True, volume_preservation=False)\n",
    "coarse_mesh"
   ]
  },
  {
   "cell_type": "code",
   "execution_count": 42,
   "id": "a20009cd",
   "metadata": {},
   "outputs": [
    {
     "data": {
      "application/vnd.jupyter.widget-view+json": {
       "model_id": "7551ac70d4ce4fe49aace5383e0799bc",
       "version_major": 2,
       "version_minor": 0
      },
      "text/plain": [
       "Widget(value='<iframe src=\"http://localhost:33039/index.html?ui=P_0x7fbb89fdaad0_11&reconnect=auto\" class=\"pyv…"
      ]
     },
     "metadata": {},
     "output_type": "display_data"
    }
   ],
   "source": [
    "plotter = pv.Plotter(window_size=[800, 600])\n",
    "plotter.add_mesh(coarse_mesh, scalars=\"alpha\", show_edges=True)\n",
    "plotter.show()"
   ]
  }
 ],
 "metadata": {
  "kernelspec": {
   "display_name": "default",
   "language": "python",
   "name": "python3"
  },
  "language_info": {
   "codemirror_mode": {
    "name": "ipython",
    "version": 3
   },
   "file_extension": ".py",
   "mimetype": "text/x-python",
   "name": "python",
   "nbconvert_exporter": "python",
   "pygments_lexer": "ipython3",
   "version": "3.13.7"
  }
 },
 "nbformat": 4,
 "nbformat_minor": 5
}
