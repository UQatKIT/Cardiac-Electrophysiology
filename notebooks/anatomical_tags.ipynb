{
 "cells": [
  {
   "cell_type": "code",
   "execution_count": 31,
   "id": "5e3a1ce9",
   "metadata": {},
   "outputs": [],
   "source": [
    "import numpy as np\n",
    "import pyvista as pv\n",
    "\n",
    "pv.set_jupyter_backend('trame')"
   ]
  },
  {
   "cell_type": "code",
   "execution_count": 32,
   "id": "19ece87e",
   "metadata": {},
   "outputs": [],
   "source": [
    "patient = \"patient_07\""
   ]
  },
  {
   "cell_type": "code",
   "execution_count": 33,
   "id": "b6cf145c",
   "metadata": {},
   "outputs": [],
   "source": [
    "def read_anatomical_tags(tag_file):\n",
    "    with open(tag_file) as file:\n",
    "        num_faces = int(file.readline().strip())\n",
    "        element_tags = np.zeros(num_faces, dtype=int)\n",
    "        for i, line in enumerate(file):\n",
    "            element_tags[i] = int(line.split()[-1])\n",
    "\n",
    "    return element_tags"
   ]
  },
  {
   "cell_type": "code",
   "execution_count": 34,
   "id": "95cf46ee",
   "metadata": {},
   "outputs": [
    {
     "data": {
      "text/html": [
       "<table style='width: 100%;'><tr><th>Header</th><th>Data Arrays</th></tr><tr><td>\n",
       "<table style='width: 100%;'>\n",
       "<tr><th>UnstructuredGrid</th><th>Information</th></tr>\n",
       "<tr><td>N Cells</td><td>177319</td></tr>\n",
       "<tr><td>N Points</td><td>89097</td></tr>\n",
       "<tr><td>X Bounds</td><td>3.567e+04, 1.001e+05</td></tr>\n",
       "<tr><td>Y Bounds</td><td>4.453e+04, 9.739e+04</td></tr>\n",
       "<tr><td>Z Bounds</td><td>4.882e+03, 5.955e+04</td></tr>\n",
       "<tr><td>N Arrays</td><td>4</td></tr>\n",
       "</table>\n",
       "\n",
       "</td><td>\n",
       "<table style='width: 100%;'>\n",
       "<tr><th>Name</th><th>Field</th><th>Type</th><th>N Comp</th><th>Min</th><th>Max</th></tr>\n",
       "<tr><td><b>alpha</b></td><td>Points</td><td>float32</td><td>1</td><td>0.000e+00</td><td>1.000e+00</td></tr>\n",
       "<tr><td>beta</td><td>Points</td><td>float32</td><td>1</td><td>0.000e+00</td><td>1.000e+00</td></tr>\n",
       "<tr><td>fibers</td><td>Cells</td><td>float32</td><td>3</td><td>-1.000e+00</td><td>1.000e+00</td></tr>\n",
       "<tr><td>anatomical_tags</td><td>Cells</td><td>int64</td><td>1</td><td>1.100e+01</td><td>2.700e+01</td></tr>\n",
       "</table>\n",
       "\n",
       "</td></tr> </table>"
      ],
      "text/plain": [
       "UnstructuredGrid (0x7f79f00a7c40)\n",
       "  N Cells:    177319\n",
       "  N Points:   89097\n",
       "  X Bounds:   3.567e+04, 1.001e+05\n",
       "  Y Bounds:   4.453e+04, 9.739e+04\n",
       "  Z Bounds:   4.882e+03, 5.955e+04\n",
       "  N Arrays:   4"
      ]
     },
     "execution_count": 34,
     "metadata": {},
     "output_type": "execute_result"
    }
   ],
   "source": [
    "mesh_file = f\"../data/human_atrial_fiber_atlas/{patient}/mesh_uacs_fibers.vtk\"\n",
    "tag_file = f\"../data/human_atrial_fiber_atlas/{patient}/simplices_with_anatomical_tags.txt\"\n",
    "combined_file = f\"../data/human_atrial_fiber_atlas/{patient}/mesh_with_uacs_fibers_tags.vtk\"\n",
    "\n",
    "mesh_dataset = pv.read(mesh_file)\n",
    "element_tags = read_anatomical_tags(tag_file)\n",
    "mesh_dataset.cell_data[\"anatomical_tags\"] = element_tags\n",
    "mesh_dataset"
   ]
  },
  {
   "cell_type": "code",
   "execution_count": 35,
   "id": "9a1b36d9",
   "metadata": {},
   "outputs": [],
   "source": [
    "pv.save_meshio(combined_file, mesh_dataset)"
   ]
  }
 ],
 "metadata": {
  "kernelspec": {
   "display_name": "default",
   "language": "python",
   "name": "python3"
  },
  "language_info": {
   "codemirror_mode": {
    "name": "ipython",
    "version": 3
   },
   "file_extension": ".py",
   "mimetype": "text/x-python",
   "name": "python",
   "nbconvert_exporter": "python",
   "pygments_lexer": "ipython3",
   "version": "3.13.7"
  }
 },
 "nbformat": 4,
 "nbformat_minor": 5
}
