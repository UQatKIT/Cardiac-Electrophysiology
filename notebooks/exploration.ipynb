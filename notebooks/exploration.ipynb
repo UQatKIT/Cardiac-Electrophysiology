{
 "cells": [
  {
   "cell_type": "code",
   "execution_count": 34,
   "id": "161d8374",
   "metadata": {},
   "outputs": [],
   "source": [
    "import numpy as np\n",
    "import pyvista as pv\n",
    "\n",
    "pv.set_jupyter_backend('trame')"
   ]
  },
  {
   "cell_type": "code",
   "execution_count": 37,
   "id": "e946b1b5",
   "metadata": {},
   "outputs": [
    {
     "data": {
      "text/html": [
       "<table style='width: 100%;'><tr><th>Header</th><th>Data Arrays</th></tr><tr><td>\n",
       "<table style='width: 100%;'>\n",
       "<tr><th>UnstructuredGrid</th><th>Information</th></tr>\n",
       "<tr><td>N Cells</td><td>125501</td></tr>\n",
       "<tr><td>N Points</td><td>63112</td></tr>\n",
       "<tr><td>X Bounds</td><td>2.785e+04, 6.993e+04</td></tr>\n",
       "<tr><td>Y Bounds</td><td>1.670e+04, 6.522e+04</td></tr>\n",
       "<tr><td>Z Bounds</td><td>1.284e+04, 5.690e+04</td></tr>\n",
       "<tr><td>N Arrays</td><td>3</td></tr>\n",
       "</table>\n",
       "\n",
       "</td><td>\n",
       "<table style='width: 100%;'>\n",
       "<tr><th>Name</th><th>Field</th><th>Type</th><th>N Comp</th><th>Min</th><th>Max</th></tr>\n",
       "<tr><td><b>alpha</b></td><td>Points</td><td>float32</td><td>1</td><td>0.000e+00</td><td>1.000e+00</td></tr>\n",
       "<tr><td>beta</td><td>Points</td><td>float32</td><td>1</td><td>0.000e+00</td><td>1.000e+00</td></tr>\n",
       "<tr><td>fibers</td><td>Cells</td><td>float32</td><td>3</td><td>-1.000e+00</td><td>1.000e+00</td></tr>\n",
       "</table>\n",
       "\n",
       "</td></tr> </table>"
      ],
      "text/plain": [
       "UnstructuredGrid (0x7fd504d34dc0)\n",
       "  N Cells:    125501\n",
       "  N Points:   63112\n",
       "  X Bounds:   2.785e+04, 6.993e+04\n",
       "  Y Bounds:   1.670e+04, 6.522e+04\n",
       "  Z Bounds:   1.284e+04, 5.690e+04\n",
       "  N Arrays:   3"
      ]
     },
     "execution_count": 37,
     "metadata": {},
     "output_type": "execute_result"
    }
   ],
   "source": [
    "file_name = \"../data/human_atrial_fiber_atlas/patient_01/mesh_uacs_fibers.vtk\"\n",
    "raw_dataset = pv.read(file_name)\n",
    "raw_dataset"
   ]
  },
  {
   "cell_type": "code",
   "execution_count": null,
   "id": "e9867ed1",
   "metadata": {},
   "outputs": [],
   "source": [
    "points = raw_dataset.points\n",
    "simplices = raw_dataset.cells.reshape(-1, 4)[:, 1:]\n",
    "alpha_values = raw_dataset.point_data[\"alpha\"]\n",
    "beta_values = raw_dataset.point_data[\"beta\"]\n",
    "fiber_directions = raw_dataset.cell_data[\"fibers\"]"
   ]
  },
  {
   "cell_type": "code",
   "execution_count": 84,
   "id": "b65f2703",
   "metadata": {},
   "outputs": [],
   "source": [
    "num_isolines = 30\n",
    "isoline_width = 3\n",
    "point_size = 5\n",
    "contours_alpha = raw_dataset.contour(isosurfaces=num_isolines, scalars=\"alpha\")\n",
    "contours_beta = raw_dataset.contour(isosurfaces=num_isolines, scalars=\"beta\")\n",
    "points_alpha = pv.PolyData(points)\n",
    "points_beta = pv.PolyData(points)\n",
    "points_alpha.point_data[\"alpha\"] = alpha_values\n",
    "points_beta.point_data[\"beta\"] = beta_values"
   ]
  },
  {
   "cell_type": "code",
   "execution_count": 86,
   "id": "83fa7a0e",
   "metadata": {},
   "outputs": [
    {
     "data": {
      "application/vnd.jupyter.widget-view+json": {
       "model_id": "3662f0f539d04abdaf403a1730e87049",
       "version_major": 2,
       "version_minor": 0
      },
      "text/plain": [
       "Widget(value='<iframe src=\"http://localhost:33761/index.html?ui=P_0x7fd3d8341f90_23&reconnect=auto\" class=\"pyv…"
      ]
     },
     "metadata": {},
     "output_type": "display_data"
    }
   ],
   "source": [
    "plotter = pv.Plotter(window_size=[800, 600])\n",
    "plotter.add_mesh(raw_dataset, opacity=1, color=\"lightgray\", show_edges=False)\n",
    "#plotter.add_mesh(contours_alpha, line_width=isoline_width, render_lines_as_tubes=True)\n",
    "#plotter.add_mesh(contours_beta, line_width=isoline_width, render_lines_as_tubes=True)\n",
    "#plotter.add_mesh(points_alpha, point_size=point_size, render_points_as_spheres=True)\n",
    "plotter.add_mesh(points_beta, point_size=point_size, render_points_as_spheres=True)\n",
    "plotter.show()"
   ]
  }
 ],
 "metadata": {
  "kernelspec": {
   "display_name": "default",
   "language": "python",
   "name": "python3"
  },
  "language_info": {
   "codemirror_mode": {
    "name": "ipython",
    "version": 3
   },
   "file_extension": ".py",
   "mimetype": "text/x-python",
   "name": "python",
   "nbconvert_exporter": "python",
   "pygments_lexer": "ipython3",
   "version": "3.13.7"
  }
 },
 "nbformat": 4,
 "nbformat_minor": 5
}
